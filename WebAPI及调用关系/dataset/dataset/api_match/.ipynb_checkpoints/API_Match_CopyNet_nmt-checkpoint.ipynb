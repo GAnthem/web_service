{
 "cells": [
  {
   "cell_type": "code",
   "execution_count": null,
   "metadata": {},
   "outputs": [],
   "source": [
    "!python -m CopyNet.nmt.nmt.nmt \\\n",
    "    --copynet\n",
    "    --attention=scaled_luong \\\n",
    "    --attention_architecture=standard \\\n",
    "    --optimizer=adam \\\n",
    "    --learning_rate=0.0001 \\\n",
    "    --decay_scheme=luong10 \\\n",
    "    --src=in --tgt=out \\\n",
    "    --vocab_prefix=./dataset/api_match/voc \\\n",
    "    --train_prefix=./dataset/api_match/train \\\n",
    "    --dev_prefix=./dataset/api_match/dev \\\n",
    "    --test_prefix=./dataset/api_match/test \\\n",
    "    --out_dir=./results/CopyNet_0 \\\n",
    "    --num_train_steps=20000 \\\n",
    "    --steps_per_stats=100 \\\n",
    "    --encoder_type=bi \\\n",
    "    --num_layers=2 \\\n",
    "    --num_units=128 \\\n",
    "    --dropout=0 \\\n",
    "    --metrics=accuracy \\\n",
    "    --share_vocab \\\n",
    "#     --beam_width=10 \\ "
   ]
  }
 ],
 "metadata": {
  "kernelspec": {
   "display_name": "python35",
   "language": "python",
   "name": "python35"
  },
  "language_info": {
   "codemirror_mode": {
    "name": "ipython",
    "version": 3
   },
   "file_extension": ".py",
   "mimetype": "text/x-python",
   "name": "python",
   "nbconvert_exporter": "python",
   "pygments_lexer": "ipython3",
   "version": "3.5.4"
  },
  "toc": {
   "nav_menu": {},
   "number_sections": true,
   "sideBar": true,
   "skip_h1_title": false,
   "toc_cell": false,
   "toc_position": {},
   "toc_section_display": "block",
   "toc_window_display": false
  }
 },
 "nbformat": 4,
 "nbformat_minor": 2
}
